{
 "cells": [
  {
   "attachments": {},
   "cell_type": "markdown",
   "metadata": {},
   "source": [
    "# Data Collections 2 (Dictionaries, Sets) and Importing Modules"
   ]
  },
  {
   "attachments": {},
   "cell_type": "markdown",
   "metadata": {},
   "source": [
    "## Tasks Today:\n",
    "\n",
    "1) Dictionary <br>\n",
    " &nbsp;&nbsp;&nbsp;&nbsp; a) Declaring (key, value) <br>\n",
    " &nbsp;&nbsp;&nbsp;&nbsp; b) Accessing Values <br>\n",
    " &nbsp;&nbsp;&nbsp;&nbsp; ------ Exercise #1 - Print the eye color of each person in a double nested dict <br>\n",
    " &nbsp;&nbsp;&nbsp;&nbsp; c) Adding New Pairs <br>\n",
    " &nbsp;&nbsp;&nbsp;&nbsp; d) Modifying Values <br>\n",
    " &nbsp;&nbsp;&nbsp;&nbsp; e) Removing Key, Value Pairs <br>\n",
    " &nbsp;&nbsp;&nbsp;&nbsp; f) Looping a Dictionary <br>\n",
    " &nbsp;&nbsp;&nbsp;&nbsp; g) Looping Only Keys <br>\n",
    " &nbsp;&nbsp;&nbsp;&nbsp; h) Looping Only Values <br>\n",
    " &nbsp;&nbsp;&nbsp;&nbsp; ------ Exercise #2 - Create a Function that Prints All Key Value Pairs within a print .format()  <br>\n",
    " &nbsp;&nbsp;&nbsp;&nbsp; i) sorted() <br>\n",
    " &nbsp;&nbsp;&nbsp;&nbsp; j) Lists with Dictionaries <br>\n",
    " &nbsp;&nbsp;&nbsp;&nbsp; k) Dictionaries with Lists <br>\n",
    " &nbsp;&nbsp;&nbsp;&nbsp; l) Dictionaries with Dictionaries <br>\n",
    " &nbsp;&nbsp;&nbsp;&nbsp; ------ Exercise #3 - Write a Function that asks someone's name and address, and then stores that into a dictionary, which prints all names and addresses after they're done putting information in...  <br>\n",
    "2) Dictionaries vs. Lists (over time)<br>\n",
    "3) Set <br>\n",
    " &nbsp;&nbsp;&nbsp;&nbsp; a) Declaring <br>\n",
    " &nbsp;&nbsp;&nbsp;&nbsp; b) .add() <br>\n",
    " &nbsp;&nbsp;&nbsp;&nbsp; c) .remove() <br>\n",
    " &nbsp;&nbsp;&nbsp;&nbsp; d) .union() <br>\n",
    " &nbsp;&nbsp;&nbsp;&nbsp; e) .intersection() <br>\n",
    " &nbsp;&nbsp;&nbsp;&nbsp; f) .difference() <br>\n",
    " &nbsp;&nbsp;&nbsp;&nbsp; g) Frozen Set <br>\n",
    "4) Modules <br>\n",
    " &nbsp;&nbsp;&nbsp;&nbsp; a) Importing Entire Modules <br>\n",
    " &nbsp;&nbsp;&nbsp;&nbsp; b) Importing Methods Only <br>\n",
    " &nbsp;&nbsp;&nbsp;&nbsp; c) Using the 'as' Keyword <br>\n",
    " &nbsp;&nbsp;&nbsp;&nbsp; d) Creating a Module <br>\n",
    "5) Exercises <br>\n",
    " &nbsp;&nbsp;&nbsp;&nbsp; a) Build a Shopping Cart <br>\n",
    " &nbsp;&nbsp;&nbsp;&nbsp; b) Create Your Own Module <br>"
   ]
  },
  {
   "attachments": {},
   "cell_type": "markdown",
   "metadata": {},
   "source": [
    "## Dictionary <br>\n",
    "<p>A collection of data with 'key:value' pairs. Dictionaries are ordered as of Python 3.6</p>"
   ]
  },
  {
   "attachments": {},
   "cell_type": "markdown",
   "metadata": {},
   "source": [
    "##### Declaring (key, value)"
   ]
  },
  {
   "cell_type": "code",
   "execution_count": 1,
   "metadata": {},
   "outputs": [
    {
     "data": {
      "text/plain": [
       "True"
      ]
     },
     "execution_count": 1,
     "metadata": {},
     "output_type": "execute_result"
    }
   ],
   "source": [
    "my_dict = {}\n",
    "\n",
    "another_dict = dict()\n",
    "\n",
    "type(my_dict)\n",
    "\n",
    "isinstance(another_dict, dict)"
   ]
  },
  {
   "attachments": {},
   "cell_type": "markdown",
   "metadata": {},
   "source": [
    "##### Accessing Values"
   ]
  },
  {
   "cell_type": "code",
   "execution_count": null,
   "metadata": {},
   "outputs": [],
   "source": [
    "my_dict = {'class', 'Matrix-124', 'instructors':('sean', 'dylan')}\n",
    "\n",
    "# cannot index into dict\n",
    "# my_dict[0]\n",
    "\n",
    "my_dict['class']\n",
    "\n",
    "my_dict['instructors']\n",
    "\n",
    "my_dict['instructors'][0]"
   ]
  },
  {
   "cell_type": "code",
   "execution_count": 8,
   "metadata": {},
   "outputs": [
    {
     "ename": "NameError",
     "evalue": "name 'sean_car_dict' is not defined",
     "output_type": "error",
     "traceback": [
      "\u001b[0;31m---------------------------------------------------------------------------\u001b[0m",
      "\u001b[0;31mNameError\u001b[0m                                 Traceback (most recent call last)",
      "Cell \u001b[0;32mIn[8], line 5\u001b[0m\n\u001b[1;32m      1\u001b[0m \u001b[38;5;66;03m# Get Method\u001b[39;00m\n\u001b[1;32m      2\u001b[0m \n\u001b[1;32m      3\u001b[0m \u001b[38;5;66;03m#<dict>.get(<key>,<optional default value if key doesn't exist)\u001b[39;00m\n\u001b[0;32m----> 5\u001b[0m \u001b[43msean_car_dict\u001b[49m\u001b[38;5;241m.\u001b[39mget(\u001b[38;5;124m'\u001b[39m\u001b[38;5;124mmake\u001b[39m\u001b[38;5;124m'\u001b[39m)\n",
      "\u001b[0;31mNameError\u001b[0m: name 'sean_car_dict' is not defined"
     ]
    }
   ],
   "source": [
    "# Get Method\n",
    "\n",
    "#<dict>.get(<key>,<optional default value if key doesn't exist)\n",
    "\n",
    "sean_car_dict.get('make')\n",
    "\n",
    "sean_car_dict.get('year',2020) + 1\n",
    "\n",
    "print(sean_car_direct)"
   ]
  },
  {
   "attachments": {},
   "cell_type": "markdown",
   "metadata": {},
   "source": [
    "## In-Class Exercise #1 - Print a formatted statement from the dictionary below <br>\n",
    "<p>The output should be '2018 Chevrolet Silverado'</p>"
   ]
  },
  {
   "cell_type": "code",
   "execution_count": 5,
   "metadata": {},
   "outputs": [
    {
     "name": "stdout",
     "output_type": "stream",
     "text": [
      "2018 Chevrolet Silverado\n"
     ]
    }
   ],
   "source": [
    "# use the dict below\n",
    "truck = {\n",
    "    'year': 2018,\n",
    "    'make': 'Chevrolet',\n",
    "    'model': 'Silverado'\n",
    "}\n",
    "\n",
    "print(f\"{truck['year']} {truck['make']} {truck['model']}\")"
   ]
  },
  {
   "cell_type": "code",
   "execution_count": null,
   "metadata": {},
   "outputs": [],
   "source": []
  },
  {
   "cell_type": "code",
   "execution_count": null,
   "metadata": {},
   "outputs": [],
   "source": [
    "dylan_car_dict = {'make':'honda', 'model':'fit'}\n",
    "\n",
    "sean_car_dict = {'model':'fit', 'make':'tesla'}\n",
    "\n",
    "def car_info(car_cd)\n",
    "\n"
   ]
  },
  {
   "attachments": {},
   "cell_type": "markdown",
   "metadata": {},
   "source": [
    "##### Adding New Pairs"
   ]
  },
  {
   "cell_type": "code",
   "execution_count": 6,
   "metadata": {},
   "outputs": [
    {
     "ename": "NameError",
     "evalue": "name 'dylan_car_dict' is not defined",
     "output_type": "error",
     "traceback": [
      "\u001b[0;31m---------------------------------------------------------------------------\u001b[0m",
      "\u001b[0;31mNameError\u001b[0m                                 Traceback (most recent call last)",
      "Cell \u001b[0;32mIn[6], line 1\u001b[0m\n\u001b[0;32m----> 1\u001b[0m \u001b[38;5;28mprint\u001b[39m(\u001b[43mdylan_car_dict\u001b[49m)\n\u001b[1;32m      3\u001b[0m dylan_car_dict[\u001b[38;5;124m'\u001b[39m\u001b[38;5;124myear\u001b[39m\u001b[38;5;124m'\u001b[39m] \u001b[38;5;241m=\u001b[39m \u001b[38;5;241m2006\u001b[39m\n\u001b[1;32m      5\u001b[0m \u001b[38;5;28mprint\u001b[39m(dylan_car_dict)\n",
      "\u001b[0;31mNameError\u001b[0m: name 'dylan_car_dict' is not defined"
     ]
    }
   ],
   "source": [
    "print(dylan_car_dict)\n",
    "\n",
    "dylan_car_dict['year'] = 2006\n",
    "\n",
    "print(dylan_car_dict)"
   ]
  },
  {
   "attachments": {},
   "cell_type": "markdown",
   "metadata": {},
   "source": [
    "##### Modifying Values"
   ]
  },
  {
   "cell_type": "code",
   "execution_count": 7,
   "metadata": {},
   "outputs": [
    {
     "ename": "NameError",
     "evalue": "name 'dylan_car_dict' is not defined",
     "output_type": "error",
     "traceback": [
      "\u001b[0;31m---------------------------------------------------------------------------\u001b[0m",
      "\u001b[0;31mNameError\u001b[0m                                 Traceback (most recent call last)",
      "Cell \u001b[0;32mIn[7], line 1\u001b[0m\n\u001b[0;32m----> 1\u001b[0m \u001b[43mdylan_car_dict\u001b[49m[\u001b[38;5;124m'\u001b[39m\u001b[38;5;124mcolor\u001b[39m\u001b[38;5;124m'\u001b[39m] \u001b[38;5;241m=\u001b[39m \u001b[38;5;124m'\u001b[39m\u001b[38;5;124mwhite\u001b[39m\u001b[38;5;124m'\u001b[39m\n\u001b[1;32m      3\u001b[0m \u001b[38;5;28mprint\u001b[39m(dylan_car_dict)\n",
      "\u001b[0;31mNameError\u001b[0m: name 'dylan_car_dict' is not defined"
     ]
    }
   ],
   "source": [
    "dylan_car_dict['color'] = 'white'\n",
    "\n",
    "print(dylan_car_dict)"
   ]
  },
  {
   "cell_type": "code",
   "execution_count": null,
   "metadata": {},
   "outputs": [],
   "source": [
    "dylan_car_dict['color'] = 'hot pink'\n",
    "\n",
    "print(dylan_car_dict)"
   ]
  },
  {
   "attachments": {},
   "cell_type": "markdown",
   "metadata": {},
   "source": [
    "##### Removing Key, Value Pairs"
   ]
  },
  {
   "cell_type": "code",
   "execution_count": null,
   "metadata": {},
   "outputs": [],
   "source": [
    "# del\n",
    "\n",
    "del dylan_car_dict['color']\n",
    "\n",
    "print(dylan_car_dict)"
   ]
  },
  {
   "cell_type": "code",
   "execution_count": null,
   "metadata": {},
   "outputs": [],
   "source": [
    "# .pop()\n",
    "\n",
    "print(sean_car_dict)\n",
    "\n",
    "sean_car_dict.pop('year')\n",
    "\n",
    "print(sean_car_dict)\n",
    "\n",
    "sean_make = sean_car_dict.pop('make')"
   ]
  },
  {
   "attachments": {},
   "cell_type": "markdown",
   "metadata": {},
   "source": [
    "##### Looping a Dictionary"
   ]
  },
  {
   "cell_type": "code",
   "execution_count": null,
   "metadata": {},
   "outputs": [],
   "source": [
    "# .items()\n",
    "# returs as tuple (<value>,<key>)\n",
    "# a, b, c = 1, 2, 3\n",
    "# print(a)\n",
    "# print(b)\n",
    "# print(c)\n",
    "\n",
    "dylan_car_dict.items()\n",
    "\n",
    "for k,v in dylan_car_dict.items():\n",
    "    print(f'{k} {v}')"
   ]
  },
  {
   "attachments": {},
   "cell_type": "markdown",
   "metadata": {},
   "source": [
    "##### Looping Only Keys"
   ]
  },
  {
   "cell_type": "code",
   "execution_count": null,
   "metadata": {},
   "outputs": [],
   "source": [
    "# .keys()\n",
    "# treat like list, but it is not a list\n",
    "\n",
    "print(type(dylan_car_dict.keys()))\n",
    "dylan_car_dict.keys()\n",
    "\n",
    "for k in dylan_car_dict.keys():\n",
    "    print(k)\n",
    "    print(dylan_car_dict[k])"
   ]
  },
  {
   "cell_type": "code",
   "execution_count": null,
   "metadata": {},
   "outputs": [],
   "source": [
    "for k in dylan_car_dict:\n",
    "    print(k)\n",
    "    print(dylan_car_dict)"
   ]
  },
  {
   "attachments": {},
   "cell_type": "markdown",
   "metadata": {},
   "source": [
    "##### Looping Only Values"
   ]
  },
  {
   "cell_type": "code",
   "execution_count": null,
   "metadata": {},
   "outputs": [],
   "source": [
    "# .values()\n",
    "# cannot index into it\n",
    "\n",
    "print(type(dylan_car_dict.values()))\n",
    "\n",
    "for car_info in dylan_car_dict.values()\n",
    "\n",
    "dylan_car_dict.values()"
   ]
  },
  {
   "attachments": {},
   "cell_type": "markdown",
   "metadata": {},
   "source": [
    "## In-Class Exercise #2 - Create a Function that Prints All Key Value Pairs within a print .format() <br>\n",
    "<p><b>Output should be:</b><br>\n",
    "Max has blue eyes<br>\n",
    "Lilly has brown eyes<br>\n",
    "Barney has blue eyes<br>\n",
    "etc.\n",
    "</p>"
   ]
  },
  {
   "cell_type": "code",
   "execution_count": 26,
   "metadata": {},
   "outputs": [],
   "source": [
    "# use the dict below\n",
    "\n",
    "people = {\n",
    "    'Max': 'blue',\n",
    "    'Lilly': 'brown',\n",
    "    'Barney': 'blue',\n",
    "    'Larney': 'brown',\n",
    "    'Ted': 'purple'\n",
    "}\n",
    "\n",
    "def eye_colors(people):\n",
    "    for name in people.items:\n",
    "        print('{} has {} eyes'.format(name))\n",
    "        "
   ]
  },
  {
   "cell_type": "code",
   "execution_count": null,
   "metadata": {},
   "outputs": [],
   "source": [
    "# create a function that takes in a list of numbers and returns the number that occurs the most times\n",
    "\n",
    "# ex input - [1,1,7,1,7,8,1,8,8,7,7,1] \n",
    "# output -> 1\n",
    "\n",
    "def most_occur(num_list):\n",
    "    num_count = {}\n",
    "    for num in num_list:\n",
    "        if num not in num_count:\n",
    "            num_count[num] = 0\n",
    "        num_count[num] += 1\n",
    "        print(num_count)\n",
    "    max_value = 0\n",
    "    output = None\n",
    "    for num,count in num_count.items():\n",
    "        if count > max_value:\n",
    "            max_value = count\n",
    "            output = num\n",
    "    return output\n",
    "\n",
    "most_occur([1,1,7,1,7,8,1,8,8,7,7,1] )\n",
    "\n",
    "\n",
    "def most_occur2(num_list):\n",
    "    num_count = {}\n",
    "    for num in num_list:\n",
    "        num_count[num] = num_count.get(num, 0) + 1\n",
    "    max_value = 0\n",
    "    output = None\n",
    "    for num,count in num_count.items():\n",
    "        if count > max_value:\n",
    "            max_value = count\n",
    "            output = num\n",
    "    return output"
   ]
  },
  {
   "attachments": {},
   "cell_type": "markdown",
   "metadata": {},
   "source": [
    "##### sorted()"
   ]
  },
  {
   "cell_type": "code",
   "execution_count": 28,
   "metadata": {},
   "outputs": [
    {
     "data": {
      "text/plain": [
       "[('Barney', 'blue'),\n",
       " ('Larney', 'brown'),\n",
       " ('Lilly', 'brown'),\n",
       " ('Max', 'blue'),\n",
       " ('Ted', 'purple')]"
      ]
     },
     "execution_count": 28,
     "metadata": {},
     "output_type": "execute_result"
    }
   ],
   "source": [
    "# sorts variables in order\n",
    "# sorted(dict.values()) or dict.keys() or dict.items()\n",
    "\n",
    "sorted(people)\n",
    "\n",
    "sorted(people.values())\n",
    "\n",
    "sorted(people.items())"
   ]
  },
  {
   "attachments": {},
   "cell_type": "markdown",
   "metadata": {},
   "source": [
    "##### List with Dictionaries"
   ]
  },
  {
   "cell_type": "code",
   "execution_count": 44,
   "metadata": {},
   "outputs": [
    {
     "name": "stdout",
     "output_type": "stream",
     "text": [
      "Bob Dylan is  45 years old and plays harmonica\n"
     ]
    }
   ],
   "source": [
    "rockstars = [\n",
    "    {\n",
    "        'name' : 'Jimi',\n",
    "        'age' : 32,\n",
    "        'instruments' : ['guitar', 'keyboard', 'drums']\n",
    "    },\n",
    "    {\n",
    "        'name' : 'Sean',\n",
    "        'age' : 24,\n",
    "        'instruments' : ['bass', 'sax']\n",
    "    },\n",
    "    {\n",
    "        'name' : 'Bob Dylan',\n",
    "        'age' : 45,\n",
    "        'instruments' : ['harmonica', 'guitar']\n",
    "    }\n",
    "]\n",
    "\n",
    "rockstars[1]['age']\n",
    "\n",
    "#for dic in rockstars:\n",
    "#    for k in i:\n",
    "#        if k == 'instruments':\n",
    "#            print(rockstars[k][1])\n",
    "\n",
    "print('{} is  {} years old and plays {}'.format(rockstars[2]['name'], rockstars[2]['age'], rockstars[2]['instruments'][0]))"
   ]
  },
  {
   "cell_type": "code",
   "execution_count": null,
   "metadata": {},
   "outputs": [],
   "source": [
    "# enumerae\n",
    "\n",
    "letter_list = ['a', 'b', 'c']\n",
    "\n",
    "print(list(enumerate(letter )))"
   ]
  },
  {
   "attachments": {},
   "cell_type": "markdown",
   "metadata": {},
   "source": [
    "##### Dictionaries with Lists"
   ]
  },
  {
   "cell_type": "code",
   "execution_count": 5,
   "metadata": {},
   "outputs": [],
   "source": [
    "# be careful when using numbers as keys in dictionaries, don't confuse them with indexes\n",
    "\n",
    "sean = {\n",
    "    'career' : 'rockstar',\n",
    "    'car' : 'tesla',\n",
    "    'car-year' : 2020,\n",
    "    'hobbies' : ['disc golf', 'pool world championships', 'coding instructor']\n",
    "}"
   ]
  },
  {
   "attachments": {},
   "cell_type": "markdown",
   "metadata": {},
   "source": [
    "##### Dictionaries with Dictionaries"
   ]
  },
  {
   "cell_type": "code",
   "execution_count": 8,
   "metadata": {},
   "outputs": [
    {
     "name": "stdout",
     "output_type": "stream",
     "text": [
      "{'career': 'rockstar', 'car': {'make': 'tesla', 'year': 2020}, 'hobbies': ['disc golf', 'pool world championships', 'coding instructor']}\n"
     ]
    },
    {
     "ename": "KeyError",
     "evalue": "'car-year'",
     "output_type": "error",
     "traceback": [
      "\u001b[0;31m---------------------------------------------------------------------------\u001b[0m",
      "\u001b[0;31mKeyError\u001b[0m                                  Traceback (most recent call last)",
      "Cell \u001b[0;32mIn[8], line 10\u001b[0m\n\u001b[1;32m      3\u001b[0m sean[\u001b[38;5;124m'\u001b[39m\u001b[38;5;124mcar\u001b[39m\u001b[38;5;124m'\u001b[39m] \u001b[38;5;241m=\u001b[39m  {\n\u001b[1;32m      4\u001b[0m     \u001b[38;5;124m'\u001b[39m\u001b[38;5;124mmake\u001b[39m\u001b[38;5;124m'\u001b[39m : \u001b[38;5;124m'\u001b[39m\u001b[38;5;124mtesla\u001b[39m\u001b[38;5;124m'\u001b[39m,\n\u001b[1;32m      5\u001b[0m     \u001b[38;5;124m'\u001b[39m\u001b[38;5;124myear\u001b[39m\u001b[38;5;124m'\u001b[39m : \u001b[38;5;241m2020\u001b[39m\n\u001b[1;32m      6\u001b[0m }\n\u001b[1;32m      8\u001b[0m \u001b[38;5;28mprint\u001b[39m(sean)\n\u001b[0;32m---> 10\u001b[0m \u001b[43msean\u001b[49m\u001b[38;5;241;43m.\u001b[39;49m\u001b[43mpop\u001b[49m\u001b[43m(\u001b[49m\u001b[38;5;124;43m'\u001b[39;49m\u001b[38;5;124;43mcar-year\u001b[39;49m\u001b[38;5;124;43m'\u001b[39;49m\u001b[43m)\u001b[49m\n\u001b[1;32m     12\u001b[0m \u001b[38;5;28mprint\u001b[39m(sean)\n",
      "\u001b[0;31mKeyError\u001b[0m: 'car-year'"
     ]
    }
   ],
   "source": [
    "# to get values, must traverse through keys\n",
    "\n",
    "sean['car'] =  {\n",
    "    'make' : 'tesla',\n",
    "    'year' : 2020\n",
    "}\n",
    "\n",
    "print(sean)\n",
    "\n",
    "sean.pop('car-year')\n",
    "\n",
    "print(sean)"
   ]
  },
  {
   "cell_type": "code",
   "execution_count": 11,
   "metadata": {},
   "outputs": [
    {
     "name": "stdout",
     "output_type": "stream",
     "text": [
      "(item) 7 quantity: 4\n",
      "(item) 8 quantity: 5\n"
     ]
    }
   ],
   "source": [
    "shopping_cart = {\n",
    "    'bread' : {\n",
    "        'quantity' : 4,\n",
    "        'price' : 7\n",
    "    },\n",
    "    'milk' : {\n",
    "        'quantity' : 5,\n",
    "        'price' : 8\n",
    "    }\n",
    "}\n",
    "\n",
    "def format_item(item):\n",
    "    return f'(item) {shopping_cart[item][\"price\"]} quantity: {shopping_cart[item][\"quantity\"]}'\n",
    "\n",
    "print(format_item('bread'))\n",
    "print(format_item('milk'))"
   ]
  },
  {
   "attachments": {},
   "cell_type": "markdown",
   "metadata": {},
   "source": [
    "## Dictionaries vs. Lists (over time) Example of RUNTIME\n",
    "### When inputting values in a Dictionary vs List"
   ]
  },
  {
   "cell_type": "code",
   "execution_count": null,
   "metadata": {},
   "outputs": [],
   "source": [
    "import time\n",
    "\n",
    "\n",
    "# generate fake dictionary\n",
    "d = {}\n",
    "\n",
    "for i in range(10000000):\n",
    "    d[i] = 'value'\n",
    "    \n",
    "\n",
    "# generate fake list\n",
    "big_list = [x for x in range(10000000)]"
   ]
  },
  {
   "cell_type": "code",
   "execution_count": null,
   "metadata": {},
   "outputs": [],
   "source": [
    "# tracking time for dictionary\n",
    "start_time = time.time()\n",
    "\n",
    "print(d[9999999])\n",
    "\n",
    "end_time = time.time() - start_time\n",
    "\n",
    "print('Elapsed time for dictionary: {}'.format(end_time))\n",
    "\n",
    "\n",
    "# tracking time for list\n",
    "start_time = time.time()\n",
    "\n",
    "for i in range(len(big_list)):\n",
    "    if i == 9999999:\n",
    "        print(i)\n",
    "\n",
    "end_time = time.time() - start_time\n",
    "\n",
    "print('Elapsed time for list: {}'.format(end_time))"
   ]
  },
  {
   "attachments": {},
   "cell_type": "markdown",
   "metadata": {},
   "source": [
    "## Exercise #3 - Write a Function that asks someone's name and address, and then stores that into a dictionary, and continues to do so until they choose to 'quit'. Once they quit, the program should print all names and addresses. <br>\n",
    "<p>\n",
    "<b>Proper steps:</b><br>\n",
    "step 1: write a function that takes in information and stores it in a dictionary<br>\n",
    "step 2: define an empty dictionary to work with<br>\n",
    "step 3: create our loop, which asks the user for information until they quit<br>\n",
    "step 4: ask for the information, and store it into variables<br>\n",
    "step 5: check if the user types quit<br>\n",
    "step 5a: print out all information<br>\n",
    "step 5b: break out of the loop<br>\n",
    "step 6: if they didn't quit, add the information to the dictionary<br>\n",
    "step 7: invoke the function by calling it\n",
    "</p>"
   ]
  },
  {
   "cell_type": "code",
   "execution_count": 15,
   "metadata": {},
   "outputs": [],
   "source": [
    "from IPython.display import clear_output\n",
    "\n",
    "def name_address():\n",
    "    info = {}\n",
    "    for user_info in name_address:\n",
    "        name = input('What is your name? type quit to quit ')\n",
    "        if name == 'quit':\n",
    "            break\n",
    "        address = input('What is your address?')\n",
    "\n"
   ]
  },
  {
   "attachments": {},
   "cell_type": "markdown",
   "metadata": {},
   "source": [
    "## Set <br>\n",
    "<p>A Set is an unordered collection data type that is iterable (loop), mutable, and has no duplicate elements.<br>Major advantage is that it is highly optimized in checking if something is in the set, as opposed to checking if something is in a list.</p>"
   ]
  },
  {
   "attachments": {},
   "cell_type": "markdown",
   "metadata": {},
   "source": [
    "##### Declaring"
   ]
  },
  {
   "cell_type": "code",
   "execution_count": 18,
   "metadata": {},
   "outputs": [
    {
     "name": "stdout",
     "output_type": "stream",
     "text": [
      "{1, 2, 3}\n"
     ]
    },
    {
     "data": {
      "text/plain": [
       "set"
      ]
     },
     "execution_count": 18,
     "metadata": {},
     "output_type": "execute_result"
    }
   ],
   "source": [
    "# set() or {}\n",
    "# no order {3, 2, 1} outputs as {1, 2, 3}\n",
    "\n",
    "my_set = {'a', 'b', 'c'}\n",
    "\n",
    "type(my_set)\n",
    "\n",
    "another_set = set([1,2,3])\n",
    "\n",
    "print(another_set)\n",
    "type(another_set)"
   ]
  },
  {
   "attachments": {},
   "cell_type": "markdown",
   "metadata": {},
   "source": [
    "##### .add()"
   ]
  },
  {
   "cell_type": "code",
   "execution_count": 24,
   "metadata": {},
   "outputs": [],
   "source": [
    "# set.add()\n",
    "\n",
    "students = set()\n",
    "\n",
    "students.add('michael')\n",
    "\n",
    "students.add('christian')\n",
    "\n",
    "students \n",
    "\n",
    "students.add('david')\n",
    "students.add('sima')\n",
    "students.add('ben')"
   ]
  },
  {
   "attachments": {},
   "cell_type": "markdown",
   "metadata": {},
   "source": [
    "##### .remove()"
   ]
  },
  {
   "cell_type": "code",
   "execution_count": 25,
   "metadata": {},
   "outputs": [
    {
     "name": "stdout",
     "output_type": "stream",
     "text": [
      "{'david', 'christian', 'ben', 'sima'}\n"
     ]
    }
   ],
   "source": [
    "# removes by value\n",
    "# set.remove()\n",
    "# nums.remove(56)\n",
    "# throws an error if value is not present in set\n",
    "students.remove('michael')\n",
    "\n",
    "print(students)\n",
    "\n",
    "students.remove('david')"
   ]
  },
  {
   "cell_type": "code",
   "execution_count": null,
   "metadata": {},
   "outputs": [],
   "source": [
    "# .discard\n",
    "# also removes element by value\n",
    "# doesn't break if value doesn't exist\n",
    "\n",
    "students.discard('david')\n",
    "\n",
    "print(students)"
   ]
  },
  {
   "attachments": {},
   "cell_type": "markdown",
   "metadata": {},
   "source": [
    "##### .union() "
   ]
  },
  {
   "cell_type": "code",
   "execution_count": 26,
   "metadata": {},
   "outputs": [
    {
     "name": "stdout",
     "output_type": "stream",
     "text": [
      "{'ben', 'sima', 'christian', 'mehrab', 'tayjay'}\n"
     ]
    },
    {
     "data": {
      "text/plain": [
       "{'ben', 'christian', 'hamed', 'mehrab', 'sima', 'tayjay', 'todd', 'yea'}"
      ]
     },
     "execution_count": 26,
     "metadata": {},
     "output_type": "execute_result"
    }
   ],
   "source": [
    "# Returns a union of two sets, can also use '|' or set.union(set)\n",
    "# joins all numbers, gets rid of duplicates\n",
    "\n",
    "students = students.union({'tayjay', 'mehrab'})\n",
    "\n",
    "print(students)\n",
    "\n",
    "students | {'todd', 'yea', 'hamed'}"
   ]
  },
  {
   "attachments": {},
   "cell_type": "markdown",
   "metadata": {},
   "source": [
    "##### .intersection()"
   ]
  },
  {
   "cell_type": "code",
   "execution_count": 28,
   "metadata": {},
   "outputs": [
    {
     "name": "stdout",
     "output_type": "stream",
     "text": [
      "{'michael', 'tayjay'}\n",
      "{'michael', 'tayjay'}\n"
     ]
    }
   ],
   "source": [
    "# Returns an intersection of two sets, can also use '&'\n",
    "# only takes similar elements from both sets\n",
    "\n",
    "monday_attendance = {'michael', 'christian', 'tayjay', 'ben', 'ben c'}\n",
    "\n",
    "friday_attendance = {'michael', 'tayjay', 'david', 'mehrab'}\n",
    "\n",
    "perfect_attendance = monday_attendance.intersection(friday_attendance)\n",
    "                     \n",
    "print(perfect_attendance)\n",
    "print(monday_attendance & friday_attendance)                    "
   ]
  },
  {
   "attachments": {},
   "cell_type": "markdown",
   "metadata": {},
   "source": [
    "##### .difference()"
   ]
  },
  {
   "cell_type": "code",
   "execution_count": 29,
   "metadata": {},
   "outputs": [
    {
     "name": "stdout",
     "output_type": "stream",
     "text": [
      "{'david', 'mehrab'}\n"
     ]
    }
   ],
   "source": [
    "# Returns a set containing all the elements of invoking set that are not in the second set, can also use '-'\n",
    "# only takes values from the first set that are not in the second set\n",
    "# order matters\n",
    "\n",
    "monday_attendance - friday_attendance\n",
    "\n",
    "print(friday_attendance.difference(monday_attendance))"
   ]
  },
  {
   "attachments": {},
   "cell_type": "markdown",
   "metadata": {},
   "source": [
    "##### .clear()"
   ]
  },
  {
   "cell_type": "code",
   "execution_count": 30,
   "metadata": {},
   "outputs": [
    {
     "data": {
      "text/plain": [
       "set()"
      ]
     },
     "execution_count": 30,
     "metadata": {},
     "output_type": "execute_result"
    }
   ],
   "source": [
    "# Empties the whole set\n",
    "# set.clear()\n",
    "\n",
    "students.clear()\n",
    "\n",
    "students"
   ]
  },
  {
   "attachments": {},
   "cell_type": "markdown",
   "metadata": {},
   "source": [
    "##### Frozenset <br>\n",
    "<p>Frozen sets are immutable objects that only support methods and operators that produce a result without affecting the frozen set or sets to which they are applied.</p><br><b>Unique & Immutable</b>"
   ]
  },
  {
   "cell_type": "code",
   "execution_count": 32,
   "metadata": {},
   "outputs": [
    {
     "name": "stdout",
     "output_type": "stream",
     "text": [
      "frozenset({'tuesday', 'wednesday', 'thursday', 'monday'})\n"
     ]
    }
   ],
   "source": [
    "# frozenset([])\n",
    "# tuple version of a set\n",
    "\n",
    "days = frozenset(['monday', 'tuesday', 'wednesday', 'thursday'])\n",
    "\n",
    "print(days)"
   ]
  },
  {
   "attachments": {},
   "cell_type": "markdown",
   "metadata": {},
   "source": [
    "## Modules"
   ]
  },
  {
   "attachments": {},
   "cell_type": "markdown",
   "metadata": {},
   "source": [
    "##### Importing Entire Modules"
   ]
  },
  {
   "cell_type": "code",
   "execution_count": 1,
   "metadata": {},
   "outputs": [
    {
     "ename": "ModuleNotFoundError",
     "evalue": "No module named 'module'",
     "output_type": "error",
     "traceback": [
      "\u001b[0;31m---------------------------------------------------------------------------\u001b[0m",
      "\u001b[0;31mModuleNotFoundError\u001b[0m                       Traceback (most recent call last)",
      "Cell \u001b[0;32mIn[1], line 7\u001b[0m\n\u001b[1;32m      4\u001b[0m \u001b[39mimport\u001b[39;00m \u001b[39mmath\u001b[39;00m\n\u001b[1;32m      6\u001b[0m \u001b[39mprint\u001b[39m\n\u001b[0;32m----> 7\u001b[0m \u001b[39mimport\u001b[39;00m \u001b[39mmodule\u001b[39;00m\n\u001b[1;32m      9\u001b[0m module\u001b[39m.\u001b[39mprintname\n",
      "\u001b[0;31mModuleNotFoundError\u001b[0m: No module named 'module'"
     ]
    }
   ],
   "source": [
    "# import or from 'xxx' import *\n",
    "# import math\n",
    "\n",
    "import math\n",
    "\n",
    "print\n",
    "import module\n",
    "\n",
    "module.printname"
   ]
  },
  {
   "attachments": {},
   "cell_type": "markdown",
   "metadata": {},
   "source": [
    "##### Importing Methods Only"
   ]
  },
  {
   "cell_type": "code",
   "execution_count": 33,
   "metadata": {},
   "outputs": [
    {
     "ename": "ModuleNotFoundError",
     "evalue": "No module named 'module'",
     "output_type": "error",
     "traceback": [
      "\u001b[0;31m---------------------------------------------------------------------------\u001b[0m",
      "\u001b[0;31mModuleNotFoundError\u001b[0m                       Traceback (most recent call last)",
      "Cell \u001b[0;32mIn[33], line 4\u001b[0m\n\u001b[1;32m      1\u001b[0m \u001b[38;5;66;03m# from 'xxx' import 'xxx'\u001b[39;00m\n\u001b[1;32m      2\u001b[0m \u001b[38;5;66;03m# from math import floor\u001b[39;00m\n\u001b[0;32m----> 4\u001b[0m \u001b[38;5;28;01mfrom\u001b[39;00m \u001b[38;5;21;01mmodule\u001b[39;00m \u001b[38;5;28;01mimport\u001b[39;00m printName\n\u001b[1;32m      6\u001b[0m printName(\u001b[38;5;124m'\u001b[39m\u001b[38;5;124msean\u001b[39m\u001b[38;5;124m'\u001b[39m)\n\u001b[1;32m      8\u001b[0m \u001b[38;5;28;01mfrom\u001b[39;00m \u001b[38;5;21;01mmath\u001b[39;00m \u001b[38;5;28;01mimport\u001b[39;00m pi\n",
      "\u001b[0;31mModuleNotFoundError\u001b[0m: No module named 'module'"
     ]
    }
   ],
   "source": [
    "# from 'xxx' import 'xxx'\n",
    "# from math import floor\n",
    "\n",
    "from module import printName\n",
    "\n",
    "printName('sean')\n",
    "\n",
    "from math import pi\n",
    "\n",
    "pi\n"
   ]
  },
  {
   "attachments": {},
   "cell_type": "markdown",
   "metadata": {},
   "source": [
    "##### Using the 'as' Keyword"
   ]
  },
  {
   "cell_type": "code",
   "execution_count": null,
   "metadata": {},
   "outputs": [],
   "source": [
    "# from 'xxx' import 'xxx' as 'xxx' or import 'xxx' as 'xxx'\n",
    "# from math import floor as f\n",
    "\n",
    "from module import printName, adder"
   ]
  },
  {
   "attachments": {},
   "cell_type": "markdown",
   "metadata": {},
   "source": [
    "##### Creating a Module"
   ]
  },
  {
   "cell_type": "code",
   "execution_count": null,
   "metadata": {},
   "outputs": [],
   "source": [
    "from module import adder\n",
    "\n",
    "adder(5,9)"
   ]
  },
  {
   "attachments": {},
   "cell_type": "markdown",
   "metadata": {},
   "source": [
    "# Exercises"
   ]
  },
  {
   "attachments": {},
   "cell_type": "markdown",
   "metadata": {},
   "source": [
    "### 1) Build a Shopping Cart <br>\n",
    "<p><b>You can use either lists or dictionaries. The program should have the following capabilities:</b><br><br>\n",
    "1) Takes in input <br>\n",
    "2) Stores user input into a dictionary or list <br>\n",
    "3) The User can add or delete items <br>\n",
    "4) The User can see current shopping list <br>\n",
    "5) The program Loops until user 'quits' <br>\n",
    "6) Upon quiting the program, print out all items in the user's list <br>\n",
    "</p>"
   ]
  },
  {
   "cell_type": "code",
   "execution_count": 1,
   "metadata": {},
   "outputs": [
    {
     "name": "stdout",
     "output_type": "stream",
     "text": [
      "Item: 2\n",
      "Quantity: 3\n",
      "Price: 4.00\n",
      "Item: 2\n",
      "Quantity: 3\n",
      "Price: 4.00\n",
      "Item: milk\n",
      "Quantity: 1\n",
      "Price: 2.00\n",
      "Please choose a valid option\n",
      "\n",
      "Item: 2\n",
      "Quantity: 3\n",
      "Price: 4.00\n",
      "Item: milk\n",
      "Quantity: 1\n",
      "Price: 2.00\n"
     ]
    }
   ],
   "source": [
    "from IPython.display import clear_output\n",
    "\n",
    "# Ask the user four bits of input: Do you want to : Show/Add/Delete or Quit?\n",
    "\n",
    "\n",
    "shopping_cart = {}\n",
    "\n",
    "def driver():\n",
    "    shopping = True\n",
    "    while shopping:\n",
    "        user_choice = get_input()\n",
    "        if user_choice in ['a', 'add']:\n",
    "            get_item_info()\n",
    "        elif user_choice in ['r','remove']:\n",
    "            get_remove_info()\n",
    "        elif user_choice in ['show','s']:\n",
    "            pass\n",
    "        else:\n",
    "            shopping = False\n",
    "        show()\n",
    "\n",
    "def get_input():\n",
    "    while True:\n",
    "      user_choice = input(\"What would you like do? [A]dd/[R]emove/[S]how/[Q]uit: \").lower()\n",
    "      if user_choice in ['a','r','s','q','add','remove','show','quit']:\n",
    "          return user_choice\n",
    "      print('Please choose a valid option\\n')\n",
    "\n",
    "def get_item_info():\n",
    "    item = input('What item are you adding? ')\n",
    "    while True:\n",
    "      try:\n",
    "        quantity = int(input(\"How many would you like to add? \"))\n",
    "        break\n",
    "      except:\n",
    "          print('Please enter quantity in digits')\n",
    "    while item not in shopping_cart:\n",
    "        try:\n",
    "            price = float(input(\"How much does item cost? \"))\n",
    "            break\n",
    "            # formatted_number = '{:.2f}'.format(number)\n",
    "        except:\n",
    "          print('Please enter price in digits')\n",
    "    add_item(item, quantity, price)\n",
    "\n",
    "def add_item(item, quantity, price):\n",
    "    if item in shopping_cart:\n",
    "        shopping_cart[item]['quantity'] += quantity\n",
    "        pass\n",
    "    else:\n",
    "        shopping_cart[item] = {\n",
    "            'quantity': quantity,\n",
    "            'price': price\n",
    "        }\n",
    "\n",
    "def get_remove_info():\n",
    "    item = input('What item would you like to remove? ')\n",
    "    while True:\n",
    "        quantity = input(\"How many are you removing? \")\n",
    "        if quantity.isdigit():\n",
    "            quantity = int(quantity)\n",
    "            break\n",
    "        print('Please enter quantity in digits')\n",
    "        \n",
    "    remove_item(item,quantity)\n",
    "\n",
    "def remove_item(item,quantity):\n",
    "    if item in shopping_cart:\n",
    "        shopping_cart[item]['quantity'] -= quantity\n",
    "        if shopping_cart[item]['quantity'] < 1:\n",
    "            shopping_cart.pop(item)\n",
    "    else:\n",
    "        print('Item not in cart')\n",
    "\n",
    "def show():\n",
    "    for item,info in shopping_cart.items():\n",
    "        print(f'Item: {item}\\nQuantity: {info[\"quantity\"]}\\nPrice: {info[\"price\"]:.2f}')\n",
    "        \n",
    "driver()\n",
    "    "
   ]
  },
  {
   "attachments": {},
   "cell_type": "markdown",
   "metadata": {},
   "source": [
    "### 2) Create a Module in VS Code and Import It into jupyter notebook <br>\n",
    "<p><b>Module should have the following capabilities:</b><br><br>\n",
    "1) Has a function to calculate the square footage of a house <br>\n",
    "    <b>Reminder of Formula: Length X Width == Area<br>\n",
    "        <hr>\n",
    "2) Has a function to calculate the circumference of a circle <br><br>\n",
    "<b>Program in Jupyter Notebook should take in user input and use imported functions to calculate a circle's circumference or a houses square footage</b>\n",
    "</p>"
   ]
  },
  {
   "cell_type": "code",
   "execution_count": 1,
   "metadata": {},
   "outputs": [
    {
     "name": "stdout",
     "output_type": "stream",
     "text": [
      "36\n",
      "25.132741228718345\n"
     ]
    }
   ],
   "source": [
    "import home_equations\n",
    "\n",
    "length = float(input('Length of Home: '))\n",
    "width = float(input('Width of Home: '))\n",
    "result = home_equations.square_feet(length, width)\n",
    "print(result)\n",
    "\n",
    "radius = float(input('Radius of Circle: '))\n",
    "circumference = home_equations.circumference(radius)\n",
    "print(circumference)\n"
   ]
  }
 ],
 "metadata": {
  "kernelspec": {
   "display_name": "Python 3 (ipykernel)",
   "language": "python",
   "name": "python3"
  },
  "language_info": {
   "codemirror_mode": {
    "name": "ipython",
    "version": 3
   },
   "file_extension": ".py",
   "mimetype": "text/x-python",
   "name": "python",
   "nbconvert_exporter": "python",
   "pygments_lexer": "ipython3",
   "version": "3.11.3"
  }
 },
 "nbformat": 4,
 "nbformat_minor": 2
}
